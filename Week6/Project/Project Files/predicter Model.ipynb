{
  "nbformat": 4,
  "nbformat_minor": 0,
  "metadata": {
    "colab": {
      "provenance": [],
      "gpuType": "T4"
    },
    "kernelspec": {
      "name": "python3",
      "display_name": "Python 3"
    },
    "language_info": {
      "name": "python"
    },
    "accelerator": "GPU"
  },
  "cells": [
    {
      "cell_type": "code",
      "execution_count": 1,
      "metadata": {
        "id": "jWcOC5hllYde",
        "colab": {
          "base_uri": "https://localhost:8080/"
        },
        "outputId": "525198c5-69f8-402c-b944-b6b7c668d0d5"
      },
      "outputs": [
        {
          "output_type": "stream",
          "name": "stdout",
          "text": [
            "Downloading data from https://storage.googleapis.com/tensorflow/tf-keras-datasets/mnist.npz\n",
            "11490434/11490434 [==============================] - 1s 0us/step\n"
          ]
        }
      ],
      "source": [
        "import tensorflow as tf\n",
        "from keras import layers, models\n",
        "from tensorflow.keras.layers import Conv2D, MaxPooling2D, Flatten, Dense, Dropout, BatchNormalization\n",
        "from tensorflow.keras.layers import GlobalAveragePooling2D, GlobalMaxPooling2D\n",
        "from tensorflow.keras.models import Sequential\n",
        "from tensorflow.keras.datasets import mnist\n",
        "from tensorflow.keras.utils import to_categorical\n",
        "from tensorflow.keras.regularizers import l2\n",
        "\n",
        "(x_train, y_train), (x_test, y_test) = mnist.load_data()\n",
        "def preprocess_images(images, target_size=(28, 28)):\n",
        "    # Add a channel dimension if needed (for grayscale images)\n",
        "    images = images[..., tf.newaxis]\n",
        "\n",
        "    # Resize images\n",
        "    images_resized = tf.image.resize(images, target_size)\n",
        "\n",
        "    # Normalize the images\n",
        "    images_normalized = images_resized / 255.0\n",
        "\n",
        "    return images_normalized.numpy()\n",
        "\n",
        "# Resize and preprocess the images\n",
        "x_train_preprocessed = preprocess_images(x_train)\n",
        "x_test_preprocessed = preprocess_images(x_test)\n",
        "y_train = to_categorical(y_train, 10)\n",
        "y_test = to_categorical(y_test, 10)\n",
        "\n",
        "def train_model(model, x_train_preprocessed, y_train, epochs=10, optimizer = 'adam'):\n",
        "    model.compile(optimizer, loss='categorical_crossentropy', metrics=['accuracy'])\n",
        "    model.fit(x_train_preprocessed, y_train, epochs=epochs, batch_size=128, validation_split=0.2) # Use x_train_preprocessed here\n",
        "\n",
        "def test_model(model, x_test_preprocessed, y_test):\n",
        "    test_loss, test_accuracy = model.evaluate(x_test_preprocessed, y_test) # Use x_test_preprocessed here\n",
        "    print(f'Test accuracy: {test_accuracy:.4f}')\n"
      ]
    },
    {
      "cell_type": "code",
      "source": [
        "model1 = Sequential([\n",
        "    Conv2D(32, kernel_size=(3, 3), activation='relu', input_shape=(28, 28, 1)),\n",
        "    BatchNormalization(),\n",
        "\n",
        "    Conv2D(32, kernel_size=(3, 3), activation='relu'),\n",
        "    BatchNormalization(),\n",
        "    MaxPooling2D(pool_size=(2, 2)),\n",
        "    Dropout(0.3),\n",
        "\n",
        "    Conv2D(64, kernel_size=(3, 3), activation='relu'),\n",
        "    BatchNormalization(),\n",
        "\n",
        "    Conv2D(64, kernel_size=(3, 3), activation='relu'),\n",
        "    BatchNormalization(),\n",
        "    MaxPooling2D(pool_size=(2, 2)),\n",
        "    Dropout(0.3),\n",
        "\n",
        "    Flatten(),\n",
        "\n",
        "    Dense(256, activation='relu'),\n",
        "    BatchNormalization(),\n",
        "    Dropout(0.5),\n",
        "\n",
        "    Dense(256, activation='relu'),\n",
        "    BatchNormalization(),\n",
        "    Dropout(0.5),\n",
        "\n",
        "    Dense(10, activation='softmax')\n",
        "])\n",
        "\n",
        "train_model(model1, x_train_preprocessed, y_train, 10)\n",
        "test_model(model1, x_test_preprocessed, y_test)"
      ],
      "metadata": {
        "colab": {
          "base_uri": "https://localhost:8080/"
        },
        "id": "X2-aZkH0C8DL",
        "outputId": "29028c2f-b4bc-484f-fd69-eece78f8f222"
      },
      "execution_count": 2,
      "outputs": [
        {
          "output_type": "stream",
          "name": "stdout",
          "text": [
            "Epoch 1/10\n",
            "375/375 [==============================] - 15s 14ms/step - loss: 0.3643 - accuracy: 0.8871 - val_loss: 2.9969 - val_accuracy: 0.2258\n",
            "Epoch 2/10\n",
            "375/375 [==============================] - 5s 13ms/step - loss: 0.0972 - accuracy: 0.9696 - val_loss: 0.0685 - val_accuracy: 0.9800\n",
            "Epoch 3/10\n",
            "375/375 [==============================] - 5s 13ms/step - loss: 0.0743 - accuracy: 0.9774 - val_loss: 0.0319 - val_accuracy: 0.9904\n",
            "Epoch 4/10\n",
            "375/375 [==============================] - 4s 12ms/step - loss: 0.0590 - accuracy: 0.9819 - val_loss: 0.0326 - val_accuracy: 0.9904\n",
            "Epoch 5/10\n",
            "375/375 [==============================] - 5s 14ms/step - loss: 0.0532 - accuracy: 0.9842 - val_loss: 0.0331 - val_accuracy: 0.9905\n",
            "Epoch 6/10\n",
            "375/375 [==============================] - 4s 12ms/step - loss: 0.0481 - accuracy: 0.9850 - val_loss: 0.0344 - val_accuracy: 0.9913\n",
            "Epoch 7/10\n",
            "375/375 [==============================] - 6s 15ms/step - loss: 0.0410 - accuracy: 0.9882 - val_loss: 0.0285 - val_accuracy: 0.9919\n",
            "Epoch 8/10\n",
            "375/375 [==============================] - 5s 13ms/step - loss: 0.0363 - accuracy: 0.9886 - val_loss: 0.0272 - val_accuracy: 0.9923\n",
            "Epoch 9/10\n",
            "375/375 [==============================] - 5s 13ms/step - loss: 0.0342 - accuracy: 0.9895 - val_loss: 0.0284 - val_accuracy: 0.9920\n",
            "Epoch 10/10\n",
            "375/375 [==============================] - 5s 13ms/step - loss: 0.0319 - accuracy: 0.9897 - val_loss: 0.0247 - val_accuracy: 0.9925\n",
            "313/313 [==============================] - 1s 4ms/step - loss: 0.0210 - accuracy: 0.9933\n",
            "Test accuracy: 0.9933\n"
          ]
        }
      ]
    },
    {
      "cell_type": "code",
      "source": [
        "model2 = models.Sequential()\n",
        "model2.add(layers.Conv2D(32, (3, 3), activation='relu', input_shape=(28, 28, 1)))\n",
        "model2.add(layers.MaxPooling2D((2, 2)))\n",
        "model2.add(layers.Conv2D(64, (3, 3), activation='relu'))\n",
        "model2.add(layers.MaxPooling2D((2, 2)))\n",
        "model2.add(layers.Conv2D(64, (3, 3), activation='relu'))\n",
        "model2.add(layers.Flatten())\n",
        "model2.add(layers.Dense(64, activation='relu'))\n",
        "model2.add(layers.Dense(10, activation='softmax'))\n",
        "\n",
        "train_model(model2, x_train_preprocessed, y_train, 10, 'rmsprop')\n",
        "test_model(model2, x_test_preprocessed, y_test)"
      ],
      "metadata": {
        "id": "7fOYNN7K5wca",
        "colab": {
          "base_uri": "https://localhost:8080/"
        },
        "outputId": "3f6aead9-31ae-4781-8170-f1e702e9a957"
      },
      "execution_count": 3,
      "outputs": [
        {
          "output_type": "stream",
          "name": "stdout",
          "text": [
            "Epoch 1/10\n",
            "375/375 [==============================] - 4s 6ms/step - loss: 0.2907 - accuracy: 0.9103 - val_loss: 0.0812 - val_accuracy: 0.9766\n",
            "Epoch 2/10\n",
            "375/375 [==============================] - 2s 5ms/step - loss: 0.0672 - accuracy: 0.9781 - val_loss: 0.0574 - val_accuracy: 0.9837\n",
            "Epoch 3/10\n",
            "375/375 [==============================] - 2s 6ms/step - loss: 0.0442 - accuracy: 0.9858 - val_loss: 0.0475 - val_accuracy: 0.9863\n",
            "Epoch 4/10\n",
            "375/375 [==============================] - 2s 5ms/step - loss: 0.0331 - accuracy: 0.9894 - val_loss: 0.0420 - val_accuracy: 0.9877\n",
            "Epoch 5/10\n",
            "375/375 [==============================] - 2s 5ms/step - loss: 0.0258 - accuracy: 0.9919 - val_loss: 0.0402 - val_accuracy: 0.9892\n",
            "Epoch 6/10\n",
            "375/375 [==============================] - 2s 5ms/step - loss: 0.0208 - accuracy: 0.9934 - val_loss: 0.0365 - val_accuracy: 0.9893\n",
            "Epoch 7/10\n",
            "375/375 [==============================] - 2s 5ms/step - loss: 0.0161 - accuracy: 0.9951 - val_loss: 0.0455 - val_accuracy: 0.9889\n",
            "Epoch 8/10\n",
            "375/375 [==============================] - 2s 5ms/step - loss: 0.0128 - accuracy: 0.9959 - val_loss: 0.0402 - val_accuracy: 0.9898\n",
            "Epoch 9/10\n",
            "375/375 [==============================] - 2s 6ms/step - loss: 0.0108 - accuracy: 0.9968 - val_loss: 0.0433 - val_accuracy: 0.9887\n",
            "Epoch 10/10\n",
            "375/375 [==============================] - 2s 6ms/step - loss: 0.0083 - accuracy: 0.9971 - val_loss: 0.0473 - val_accuracy: 0.9897\n",
            "313/313 [==============================] - 1s 4ms/step - loss: 0.0342 - accuracy: 0.9910\n",
            "Test accuracy: 0.9910\n"
          ]
        }
      ]
    },
    {
      "cell_type": "code",
      "source": [
        "model3 = Sequential()\n",
        "\n",
        "model3.add(Flatten(input_shape=(28, 28, 1)))\n",
        "model3.add(Dense(units=128, activation='relu'))\n",
        "model3.add(Dense(units=128, activation='relu'))\n",
        "model3.add(Dropout(0.25))\n",
        "model3.add(Dense(units=10, activation='softmax'))\n",
        "\n",
        "train_model(model3, x_train_preprocessed, y_train, 10)\n",
        "test_model(model3, x_test_preprocessed, y_test)"
      ],
      "metadata": {
        "id": "rW6B7UpsBAOm",
        "colab": {
          "base_uri": "https://localhost:8080/"
        },
        "outputId": "ede03b40-6369-4211-81fd-f5614223b25d"
      },
      "execution_count": 4,
      "outputs": [
        {
          "output_type": "stream",
          "name": "stdout",
          "text": [
            "Epoch 1/10\n",
            "375/375 [==============================] - 3s 4ms/step - loss: 0.4179 - accuracy: 0.8745 - val_loss: 0.1766 - val_accuracy: 0.9492\n",
            "Epoch 2/10\n",
            "375/375 [==============================] - 1s 3ms/step - loss: 0.1663 - accuracy: 0.9506 - val_loss: 0.1241 - val_accuracy: 0.9625\n",
            "Epoch 3/10\n",
            "375/375 [==============================] - 1s 4ms/step - loss: 0.1165 - accuracy: 0.9643 - val_loss: 0.1061 - val_accuracy: 0.9694\n",
            "Epoch 4/10\n",
            "375/375 [==============================] - 1s 4ms/step - loss: 0.0875 - accuracy: 0.9737 - val_loss: 0.0939 - val_accuracy: 0.9714\n",
            "Epoch 5/10\n",
            "375/375 [==============================] - 1s 3ms/step - loss: 0.0709 - accuracy: 0.9781 - val_loss: 0.0869 - val_accuracy: 0.9731\n",
            "Epoch 6/10\n",
            "375/375 [==============================] - 1s 4ms/step - loss: 0.0573 - accuracy: 0.9821 - val_loss: 0.0907 - val_accuracy: 0.9726\n",
            "Epoch 7/10\n",
            "375/375 [==============================] - 1s 4ms/step - loss: 0.0471 - accuracy: 0.9853 - val_loss: 0.0794 - val_accuracy: 0.9772\n",
            "Epoch 8/10\n",
            "375/375 [==============================] - 2s 5ms/step - loss: 0.0402 - accuracy: 0.9873 - val_loss: 0.0814 - val_accuracy: 0.9769\n",
            "Epoch 9/10\n",
            "375/375 [==============================] - 2s 4ms/step - loss: 0.0326 - accuracy: 0.9896 - val_loss: 0.0861 - val_accuracy: 0.9762\n",
            "Epoch 10/10\n",
            "375/375 [==============================] - 1s 4ms/step - loss: 0.0306 - accuracy: 0.9903 - val_loss: 0.0871 - val_accuracy: 0.9759\n",
            "313/313 [==============================] - 1s 2ms/step - loss: 0.0748 - accuracy: 0.9773\n",
            "Test accuracy: 0.9773\n"
          ]
        }
      ]
    },
    {
      "cell_type": "code",
      "source": [
        "from pathlib import PureWindowsPath\n",
        "import numpy as np\n",
        "from tensorflow.keras.preprocessing import image\n",
        "from collections import Counter\n",
        "from google.colab import drive\n",
        "import matplotlib.pyplot as plt\n",
        "\n",
        "def preprocess_image(img_path):\n",
        "    img = image.load_img(img_path, target_size=(28,28), color_mode='grayscale')\n",
        "    img_array = image.img_to_array(img)\n",
        "    img_array = img_array / 255.0\n",
        "    img_array = np.expand_dims(img_array, axis=0)\n",
        "    return img_array, img\n",
        "\n",
        "drive.mount('/content/drive', force_remount=True)\n",
        "path = '/content/drive/My Drive/image.jpg'\n",
        "img_path = path\n",
        "\n",
        "new_test_image, img = preprocess_image(img_path)\n",
        "\n",
        "# Display the preprocessed image in grayscale\n",
        "plt.imshow(img, cmap='gray')\n",
        "plt.axis('off')  # Turn off axis labels\n",
        "plt.title('Preprocessed Grayscale Image')\n",
        "plt.show()\n",
        "\n",
        "import matplotlib.pyplot as plt\n",
        "\n",
        "prediction1 = model1.predict(new_test_image)\n",
        "prediction2 = model2.predict(new_test_image)\n",
        "prediction3 = model3.predict(new_test_image)\n",
        "\n",
        "predicted_digit1 = np.argmax(prediction1, axis=1)[0]\n",
        "predicted_digit2 = np.argmax(prediction2, axis=1)[0]\n",
        "predicted_digit3 = np.argmax(prediction3, axis=1)[0]\n",
        "\n",
        "print('Model 1 prediction:', predicted_digit1)\n",
        "print('Model 2 prediction:', predicted_digit2)\n",
        "print('Model prediction:', predicted_digit3)\n",
        "\n",
        "votes = [predicted_digit1, predicted_digit2, predicted_digit3]\n",
        "vote_counts = Counter(votes)\n",
        "predicted_digit, count = vote_counts.most_common(1)[0]\n",
        "\n",
        "print(f'The model predicts this image is the digit: {predicted_digit}')"
      ],
      "metadata": {
        "id": "OLTfJspEJPdH",
        "colab": {
          "base_uri": "https://localhost:8080/",
          "height": 567
        },
        "outputId": "e63568fc-cf1f-44b3-81fb-78df118c5076"
      },
      "execution_count": 7,
      "outputs": [
        {
          "output_type": "stream",
          "name": "stdout",
          "text": [
            "Mounted at /content/drive\n"
          ]
        },
        {
          "output_type": "display_data",
          "data": {
            "text/plain": [
              "<Figure size 640x480 with 1 Axes>"
            ],
            "image/png": "[encoded data removed]"
          },
          "metadata": {}
        },
        {
          "output_type": "stream",
          "name": "stdout",
          "text": [
            "1/1 [==============================] - 0s 28ms/step\n",
            "1/1 [==============================] - 0s 30ms/step\n",
            "1/1 [==============================] - 0s 75ms/step\n",
            "Model 1 prediction: 6\n",
            "Model 2 prediction: 6\n",
            "Model prediction: 6\n",
            "The model predicts this image is the digit: 6\n"
          ]
        }
      ]
    }
  ]
}